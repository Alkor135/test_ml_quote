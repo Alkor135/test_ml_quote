{
 "cells": [
  {
   "cell_type": "markdown",
   "metadata": {},
   "source": [
    "# Экстремумы дня. Время возникновения максимумов и минимумов за день."
   ]
  },
  {
   "cell_type": "code",
   "execution_count": 1,
   "metadata": {},
   "outputs": [],
   "source": [
    "# Импорт библиотек\n",
    "import pandas as pd\n",
    "from pathlib import Path\n",
    "import matplotlib.pyplot as plt\n",
    "plt.rcParams['figure.figsize'] = (16,12)"
   ]
  },
  {
   "cell_type": "code",
   "execution_count": 2,
   "metadata": {},
   "outputs": [],
   "source": [
    "# Шрифт надписей к графикам\n",
    "font = {'family': 'serif',\n",
    "        'color':  'darkred',\n",
    "        'weight': 'normal',\n",
    "        'size': 20,\n",
    "        }"
   ]
  },
  {
   "cell_type": "code",
   "execution_count": 3,
   "metadata": {},
   "outputs": [],
   "source": [
    "dir_source = Path('c:/data_finam_quote_csv')  # Папка откуда берем csv файлы для обработки\n",
    "file_mask = 'SPFB.RTS_5min_*.csv'  # Маска файлов, которые обрабатываем"
   ]
  },
  {
   "cell_type": "code",
   "execution_count": 4,
   "metadata": {},
   "outputs": [
    {
     "data": {
      "text/plain": [
       "[WindowsPath('c:/data_finam_quote_csv/SPFB.RTS_5min_200103.csv'),\n",
       " WindowsPath('c:/data_finam_quote_csv/SPFB.RTS_5min_200106.csv'),\n",
       " WindowsPath('c:/data_finam_quote_csv/SPFB.RTS_5min_200108.csv'),\n",
       " WindowsPath('c:/data_finam_quote_csv/SPFB.RTS_5min_200109.csv'),\n",
       " WindowsPath('c:/data_finam_quote_csv/SPFB.RTS_5min_200110.csv')]"
      ]
     },
     "execution_count": 4,
     "metadata": {},
     "output_type": "execute_result"
    }
   ],
   "source": [
    "file_lst = list(dir_source.glob(file_mask))  # Создаем список файлов которые будем обрабатывать\n",
    "file_lst[0:5]  # Проверяем, что список файлов сформирован"
   ]
  },
  {
   "cell_type": "code",
   "execution_count": 5,
   "metadata": {},
   "outputs": [],
   "source": [
    "# Далее в цикле нужно обрабатывать файлы, поэтому создаем функцию, которая из списка файлов слелает dataframe\n",
    "def prepare_df(df):\n",
    "    \"\"\"\n",
    "    Подготавливает df для подсчета экстремумов\n",
    "    :param df: Получает на вход df\n",
    "    :return: Возвращает обработанный df\n",
    "    \"\"\"\n",
    "    df['<TIME>'] = pd.to_datetime(df['<TIME>'], format='%H%M%S').dt.time  # Меняем тип поля '<TIME>'\n",
    "    df = df.set_index(df['<TIME>'])  # Меняем индекс на '<TIME>'\n",
    "\n",
    "    # Удаляем ненужные колонки. axis=1 означает, что удаляем колонку\n",
    "    df = df.drop(['<TIME>', '<DATE>', '<OPEN>', '<CLOSE>', '<VOL>'], axis=1)\n",
    "    return df\n",
    "\n",
    "\n",
    "def create_df_for_plot(file_lst):\n",
    "    \"\"\"\n",
    "    Создает dataframe для построения графика экстремумов по времени\n",
    "    :param file_lst: Получает список файлов (по дням) для обработки\n",
    "    :return: Возвращает dataframe с экстремумами (частота экстремумом в определенное время)\n",
    "    \"\"\"\n",
    "    extremum_dic = {}  # Создаем словарь где будем подсчитывать экстремумы, ключами будет время\n",
    "    for file in file_lst:  # Проходимся по списку файлов\n",
    "        df_quote = pd.read_csv(file, delimiter=',')  # Загружаем файл в DF\n",
    "\n",
    "        df_quote = prepare_df(df_quote)  # Обработка (подготовка) df\n",
    "\n",
    "        max_time = df_quote['<HIGH>'].idxmax()  # Определяем индекс(время) максимума\n",
    "        min_time = df_quote['<LOW>'].idxmin()  # Определяем индекс(время) минимума\n",
    "\n",
    "        # Записываем макс и мин в словарь\n",
    "        if max_time in extremum_dic:\n",
    "            extremum_dic[max_time][0] += 1\n",
    "        else:\n",
    "            extremum_dic[max_time] = [1, 0]\n",
    "        if min_time in extremum_dic:\n",
    "            extremum_dic[min_time][1] += 1\n",
    "        else:\n",
    "            extremum_dic[min_time] = [0, 1]\n",
    "\n",
    "    df = pd.DataFrame.from_dict(extremum_dic, orient='index', columns=['max', 'min'])  # Создаем df из словаря\n",
    "    df.sort_index(inplace=True)  # Сортируем df по индексу (по времени)\n",
    "    return df"
   ]
  },
  {
   "cell_type": "code",
   "execution_count": 6,
   "metadata": {},
   "outputs": [
    {
     "data": {
      "text/html": [
       "<div>\n",
       "<style scoped>\n",
       "    .dataframe tbody tr th:only-of-type {\n",
       "        vertical-align: middle;\n",
       "    }\n",
       "\n",
       "    .dataframe tbody tr th {\n",
       "        vertical-align: top;\n",
       "    }\n",
       "\n",
       "    .dataframe thead th {\n",
       "        text-align: right;\n",
       "    }\n",
       "</style>\n",
       "<table border=\"1\" class=\"dataframe\">\n",
       "  <thead>\n",
       "    <tr style=\"text-align: right;\">\n",
       "      <th></th>\n",
       "      <th>max</th>\n",
       "      <th>min</th>\n",
       "    </tr>\n",
       "  </thead>\n",
       "  <tbody>\n",
       "    <tr>\n",
       "      <th>10:00:00</th>\n",
       "      <td>56</td>\n",
       "      <td>48</td>\n",
       "    </tr>\n",
       "    <tr>\n",
       "      <th>10:05:00</th>\n",
       "      <td>6</td>\n",
       "      <td>7</td>\n",
       "    </tr>\n",
       "    <tr>\n",
       "      <th>10:10:00</th>\n",
       "      <td>7</td>\n",
       "      <td>4</td>\n",
       "    </tr>\n",
       "    <tr>\n",
       "      <th>10:15:00</th>\n",
       "      <td>1</td>\n",
       "      <td>8</td>\n",
       "    </tr>\n",
       "    <tr>\n",
       "      <th>10:20:00</th>\n",
       "      <td>3</td>\n",
       "      <td>2</td>\n",
       "    </tr>\n",
       "    <tr>\n",
       "      <th>...</th>\n",
       "      <td>...</td>\n",
       "      <td>...</td>\n",
       "    </tr>\n",
       "    <tr>\n",
       "      <th>23:25:00</th>\n",
       "      <td>1</td>\n",
       "      <td>1</td>\n",
       "    </tr>\n",
       "    <tr>\n",
       "      <th>23:30:00</th>\n",
       "      <td>1</td>\n",
       "      <td>0</td>\n",
       "    </tr>\n",
       "    <tr>\n",
       "      <th>23:35:00</th>\n",
       "      <td>0</td>\n",
       "      <td>1</td>\n",
       "    </tr>\n",
       "    <tr>\n",
       "      <th>23:40:00</th>\n",
       "      <td>1</td>\n",
       "      <td>0</td>\n",
       "    </tr>\n",
       "    <tr>\n",
       "      <th>23:45:00</th>\n",
       "      <td>20</td>\n",
       "      <td>8</td>\n",
       "    </tr>\n",
       "  </tbody>\n",
       "</table>\n",
       "<p>126 rows × 2 columns</p>\n",
       "</div>"
      ],
      "text/plain": [
       "          max  min\n",
       "10:00:00   56   48\n",
       "10:05:00    6    7\n",
       "10:10:00    7    4\n",
       "10:15:00    1    8\n",
       "10:20:00    3    2\n",
       "...       ...  ...\n",
       "23:25:00    1    1\n",
       "23:30:00    1    0\n",
       "23:35:00    0    1\n",
       "23:40:00    1    0\n",
       "23:45:00   20    8\n",
       "\n",
       "[126 rows x 2 columns]"
      ]
     },
     "execution_count": 6,
     "metadata": {},
     "output_type": "execute_result"
    }
   ],
   "source": [
    "df = create_df_for_plot(file_lst)  # Создаем df для построения графика\n",
    "df"
   ]
  },
  {
   "cell_type": "markdown",
   "metadata": {},
   "source": [
    "Видно, что основная масса экстремуов приходится на первую свечу за день, подсчитаем процент"
   ]
  },
  {
   "cell_type": "code",
   "execution_count": 7,
   "metadata": {},
   "outputs": [
    {
     "name": "stdout",
     "output_type": "stream",
     "text": [
      "Процент экстремумов приходящихся на начало сессии равно 24.30%\n"
     ]
    }
   ],
   "source": [
    "sum_first_row = df.loc[df.index[0]].sum()  # Сумма 0 строки (в 10:00:00) (количество мин и макс экстремумов)\n",
    "percent_first = sum_first_row / df.sum().sum() * 100  # Процент экстремумов в 10:00\n",
    "print(f'Процент экстремумов приходящихся на начало сессии равно {percent_first:.{2}f}%')"
   ]
  },
  {
   "cell_type": "code",
   "execution_count": 8,
   "metadata": {},
   "outputs": [
    {
     "data": {
      "image/png": "[encoded data removed]",
      "text/plain": [
       "<Figure size 1152x864 with 1 Axes>"
      ]
     },
     "metadata": {
      "needs_background": "light"
     },
     "output_type": "display_data"
    }
   ],
   "source": [
    "# Строим график в виде гистограммы\n",
    "df.plot(kind='bar')\n",
    "plt.show()"
   ]
  },
  {
   "cell_type": "code",
   "execution_count": null,
   "metadata": {},
   "outputs": [],
   "source": []
  }
 ],
 "metadata": {
  "hide_input": false,
  "kernelspec": {
   "display_name": "Python 3",
   "language": "python",
   "name": "python3"
  },
  "language_info": {
   "codemirror_mode": {
    "name": "ipython",
    "version": 3
   },
   "file_extension": ".py",
   "mimetype": "text/x-python",
   "name": "python",
   "nbconvert_exporter": "python",
   "pygments_lexer": "ipython3",
   "version": "3.8.3"
  },
  "toc": {
   "base_numbering": 1,
   "nav_menu": {},
   "number_sections": true,
   "sideBar": true,
   "skip_h1_title": false,
   "title_cell": "Table of Contents",
   "title_sidebar": "Contents",
   "toc_cell": false,
   "toc_position": {},
   "toc_section_display": true,
   "toc_window_display": false
  }
 },
 "nbformat": 4,
 "nbformat_minor": 4
}
